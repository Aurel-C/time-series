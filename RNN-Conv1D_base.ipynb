{
 "cells": [
  {
   "cell_type": "code",
   "execution_count": 1,
   "metadata": {},
   "outputs": [],
   "source": [
    "import tensorflow as tf\n",
    "import tensorflow.keras as keras\n",
    "import numpy as np"
   ]
  },
  {
   "cell_type": "code",
   "execution_count": 2,
   "metadata": {},
   "outputs": [],
   "source": [
    "def generate_time_series(batch_size, n_steps):\n",
    "    freq1, freq2, offsets1, offsets2 = np.random.rand(4, batch_size, 1)\n",
    "    time = np.linspace(0, 1, n_steps)\n",
    "    series = 0.5 * np.sin((time - offsets1) * (freq1 * 10 + 10))  #   wave 1\n",
    "    series += 0.2 * np.sin((time - offsets2) * (freq2 * 20 + 20)) # + wave 2\n",
    "    series += 0.1 * (np.random.rand(batch_size, n_steps) - 0.5)   # + noise\n",
    "    print(series.shape)\n",
    "    return series[..., np.newaxis].astype(np.float32)\n",
    "\n",
    "def last_time_step_mse(Y_true, Y_pred):\n",
    "    return keras.metrics.mean_squared_error(Y_true[:, -1], Y_pred[:, -1])"
   ]
  },
  {
   "cell_type": "code",
   "execution_count": 3,
   "metadata": {},
   "outputs": [
    {
     "name": "stdout",
     "output_type": "stream",
     "text": [
      "(10000, 60)\n"
     ]
    }
   ],
   "source": [
    "n_steps = 50\n",
    "series = generate_time_series(10000, n_steps + 10)\n",
    "X_train, Y_train = series[:7000, :n_steps], series[:7000, -10:, 0]\n",
    "X_valid, Y_valid = series[7000:9000, :n_steps], series[7000:9000, -10:, 0]\n",
    "X_test, Y_test = series[9000:, :n_steps], series[9000:, -10:, 0]\n",
    "Y = np.empty((10000, n_steps, 10)) # each target is a sequence of 10D vectors\n",
    "for step_ahead in range(1, 10 + 1):\n",
    "    Y[:, :, step_ahead - 1] = series[:, step_ahead:step_ahead + n_steps, 0]\n",
    "Y_train = Y[:7000]\n",
    "Y_valid = Y[7000:9000]\n",
    "Y_test = Y[9000:]\n"
   ]
  },
  {
   "cell_type": "code",
   "execution_count": 4,
   "metadata": {},
   "outputs": [
    {
     "data": {
      "text/plain": [
       "((10000, 60, 1), (7000, 50, 10))"
      ]
     },
     "execution_count": 4,
     "metadata": {},
     "output_type": "execute_result"
    }
   ],
   "source": [
    "series.shape,Y_train.shape"
   ]
  },
  {
   "cell_type": "code",
   "execution_count": 5,
   "metadata": {},
   "outputs": [],
   "source": [
    "model = keras.models.Sequential()\n",
    "model.add(keras.layers.InputLayer(input_shape=[None, 1]))\n",
    "for rate in (1, 2, 4, 8) * 2:\n",
    "    model.add(keras.layers.Conv1D(filters=20, kernel_size=2, padding=\"causal\",\n",
    "                                  activation=\"relu\", dilation_rate=rate))\n",
    "model.add(keras.layers.Conv1D(filters=10, kernel_size=1))\n",
    "model.compile(loss=\"mse\", optimizer=\"adam\", metrics=[last_time_step_mse])"
   ]
  },
  {
   "cell_type": "code",
   "execution_count": 6,
   "metadata": {},
   "outputs": [
    {
     "name": "stdout",
     "output_type": "stream",
     "text": [
      "Train on 7000 samples, validate on 2000 samples\n",
      "Epoch 1/19\n",
      "7000/7000 [==============================] - 8s 1ms/sample - loss: 0.0789 - last_time_step_mse: 0.0689 - val_loss: 0.0374 - val_last_time_step_mse: 0.0234\n",
      "Epoch 2/19\n",
      "7000/7000 [==============================] - 1s 208us/sample - loss: 0.0324 - last_time_step_mse: 0.0190 - val_loss: 0.0290 - val_last_time_step_mse: 0.0164\n",
      "Epoch 3/19\n",
      "7000/7000 [==============================] - 1s 205us/sample - loss: 0.0280 - last_time_step_mse: 0.0153 - val_loss: 0.0273 - val_last_time_step_mse: 0.0150\n",
      "Epoch 4/19\n",
      "7000/7000 [==============================] - 1s 210us/sample - loss: 0.0261 - last_time_step_mse: 0.0138 - val_loss: 0.0252 - val_last_time_step_mse: 0.0130\n",
      "Epoch 5/19\n",
      "7000/7000 [==============================] - 1s 213us/sample - loss: 0.0249 - last_time_step_mse: 0.0129 - val_loss: 0.0241 - val_last_time_step_mse: 0.0122\n",
      "Epoch 6/19\n",
      "7000/7000 [==============================] - 1s 213us/sample - loss: 0.0240 - last_time_step_mse: 0.0121 - val_loss: 0.0236 - val_last_time_step_mse: 0.0118\n",
      "Epoch 7/19\n",
      "7000/7000 [==============================] - 1s 209us/sample - loss: 0.0235 - last_time_step_mse: 0.0118 - val_loss: 0.0231 - val_last_time_step_mse: 0.0113\n",
      "Epoch 8/19\n",
      "7000/7000 [==============================] - 1s 210us/sample - loss: 0.0230 - last_time_step_mse: 0.0114 - val_loss: 0.0225 - val_last_time_step_mse: 0.0109\n",
      "Epoch 9/19\n",
      "7000/7000 [==============================] - 1s 207us/sample - loss: 0.0226 - last_time_step_mse: 0.0112 - val_loss: 0.0224 - val_last_time_step_mse: 0.0108\n",
      "Epoch 10/19\n",
      "7000/7000 [==============================] - 1s 206us/sample - loss: 0.0225 - last_time_step_mse: 0.0110 - val_loss: 0.0218 - val_last_time_step_mse: 0.0103\n",
      "Epoch 11/19\n",
      "7000/7000 [==============================] - 1s 207us/sample - loss: 0.0220 - last_time_step_mse: 0.0106 - val_loss: 0.0220 - val_last_time_step_mse: 0.0101\n",
      "Epoch 12/19\n",
      "7000/7000 [==============================] - 1s 211us/sample - loss: 0.0218 - last_time_step_mse: 0.0103 - val_loss: 0.0217 - val_last_time_step_mse: 0.0103\n",
      "Epoch 13/19\n",
      "7000/7000 [==============================] - 1s 210us/sample - loss: 0.0215 - last_time_step_mse: 0.0101 - val_loss: 0.0212 - val_last_time_step_mse: 0.0098\n",
      "Epoch 14/19\n",
      "7000/7000 [==============================] - 1s 207us/sample - loss: 0.0212 - last_time_step_mse: 0.0098 - val_loss: 0.0208 - val_last_time_step_mse: 0.0094\n",
      "Epoch 15/19\n",
      "7000/7000 [==============================] - 1s 209us/sample - loss: 0.0211 - last_time_step_mse: 0.0098 - val_loss: 0.0207 - val_last_time_step_mse: 0.0094\n",
      "Epoch 16/19\n",
      "7000/7000 [==============================] - 1s 209us/sample - loss: 0.0208 - last_time_step_mse: 0.0094 - val_loss: 0.0208 - val_last_time_step_mse: 0.0094\n",
      "Epoch 17/19\n",
      "7000/7000 [==============================] - 1s 206us/sample - loss: 0.0207 - last_time_step_mse: 0.0092 - val_loss: 0.0209 - val_last_time_step_mse: 0.0096\n",
      "Epoch 18/19\n",
      "7000/7000 [==============================] - 1s 210us/sample - loss: 0.0206 - last_time_step_mse: 0.0093 - val_loss: 0.0201 - val_last_time_step_mse: 0.0087\n",
      "Epoch 19/19\n",
      "7000/7000 [==============================] - 1s 207us/sample - loss: 0.0203 - last_time_step_mse: 0.0089 - val_loss: 0.0210 - val_last_time_step_mse: 0.0098\n"
     ]
    }
   ],
   "source": [
    "history = model.fit(X_train, Y_train, epochs=19,validation_data=(X_valid, Y_valid))"
   ]
  },
  {
   "cell_type": "code",
   "execution_count": 11,
   "metadata": {},
   "outputs": [
    {
     "data": {
      "text/plain": [
       "(1000, 50, 10)"
      ]
     },
     "execution_count": 11,
     "metadata": {},
     "output_type": "execute_result"
    }
   ],
   "source": [
    "Y_test.shape"
   ]
  },
  {
   "cell_type": "code",
   "execution_count": 8,
   "metadata": {},
   "outputs": [],
   "source": [
    "import matplotlib.pyplot as plt\n",
    "import seaborn as sns\n",
    "%matplotlib inline\n",
    "pred = model(X_test)"
   ]
  },
  {
   "cell_type": "code",
   "execution_count": 40,
   "metadata": {},
   "outputs": [
    {
     "data": {
      "text/plain": [
       "<matplotlib.axes._subplots.AxesSubplot at 0x17b43da93c8>"
      ]
     },
     "execution_count": 40,
     "metadata": {},
     "output_type": "execute_result"
    },
    {
     "data": {
      "image/png": "[encoded data removed]",
      "text/plain": [
       "<Figure size 432x288 with 1 Axes>"
      ]
     },
     "metadata": {
      "needs_background": "light"
     },
     "output_type": "display_data"
    }
   ],
   "source": [
    "plot_y = np.empty((1000, 60))\n",
    "plot_y = np.hstack((Y_test[:,:,0],Y_test[:,49,:]))\n",
    "plt_pred = np.empty((1000, 60))\n",
    "plt_pred = np.hstack((pred[:,:,0],pred[:,49,:]))\n",
    "sns.lineplot(data=plot_y[0,:])\n",
    "sns.lineplot(data=plt_pred[0,:])\n"
   ]
  }
 ],
 "metadata": {
  "kernelspec": {
   "display_name": "Python 3",
   "language": "python",
   "name": "python3"
  },
  "language_info": {
   "codemirror_mode": {
    "name": "ipython",
    "version": 3
   },
   "file_extension": ".py",
   "mimetype": "text/x-python",
   "name": "python",
   "nbconvert_exporter": "python",
   "pygments_lexer": "ipython3",
   "version": "3.7.3"
  }
 },
 "nbformat": 4,
 "nbformat_minor": 4
}
